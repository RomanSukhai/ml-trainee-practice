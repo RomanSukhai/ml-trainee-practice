{
 "cells": [
  {
   "cell_type": "code",
   "execution_count": 2,
   "metadata": {
    "collapsed": true,
    "ExecuteTime": {
     "end_time": "2025-06-12T19:01:14.727540900Z",
     "start_time": "2025-06-12T19:01:14.463379900Z"
    }
   },
   "outputs": [],
   "source": [
    "import numpy as np"
   ]
  },
  {
   "cell_type": "code",
   "execution_count": 22,
   "outputs": [],
   "source": [
    "a =np.array([5, 8, 12, 20, 7, 3])"
   ],
   "metadata": {
    "collapsed": false,
    "ExecuteTime": {
     "end_time": "2025-06-12T19:06:30.788194100Z",
     "start_time": "2025-06-12T19:06:30.781186900Z"
    }
   }
  },
  {
   "cell_type": "code",
   "execution_count": 23,
   "outputs": [
    {
     "name": "stdout",
     "output_type": "stream",
     "text": [
      "55\n"
     ]
    }
   ],
   "source": [
    "print(a.sum())"
   ],
   "metadata": {
    "collapsed": false,
    "ExecuteTime": {
     "end_time": "2025-06-12T19:06:38.777028200Z",
     "start_time": "2025-06-12T19:06:38.773028100Z"
    }
   }
  },
  {
   "cell_type": "code",
   "execution_count": 25,
   "outputs": [
    {
     "name": "stdout",
     "output_type": "stream",
     "text": [
      "[ 8 12 20]\n"
     ]
    }
   ],
   "source": [
    "print(a[a>7])"
   ],
   "metadata": {
    "collapsed": false,
    "ExecuteTime": {
     "end_time": "2025-06-12T19:06:58.098521100Z",
     "start_time": "2025-06-12T19:06:58.097520400Z"
    }
   }
  },
  {
   "cell_type": "code",
   "execution_count": 26,
   "outputs": [
    {
     "name": "stdout",
     "output_type": "stream",
     "text": [
      "9.166666666666666\n"
     ]
    }
   ],
   "source": [
    "print(a.mean())"
   ],
   "metadata": {
    "collapsed": false,
    "ExecuteTime": {
     "end_time": "2025-06-12T19:07:14.144828900Z",
     "start_time": "2025-06-12T19:07:14.141821900Z"
    }
   }
  },
  {
   "cell_type": "code",
   "execution_count": 30,
   "outputs": [
    {
     "name": "stdout",
     "output_type": "stream",
     "text": [
      "[[0 1 2]\n",
      " [3 4 5]\n",
      " [6 7 8]]\n"
     ]
    }
   ],
   "source": [
    "b = np.arange(9).reshape((3,3))\n",
    "print(b)"
   ],
   "metadata": {
    "collapsed": false,
    "ExecuteTime": {
     "end_time": "2025-06-12T19:09:48.092009900Z",
     "start_time": "2025-06-12T19:09:48.082259200Z"
    }
   }
  },
  {
   "cell_type": "code",
   "execution_count": 29,
   "outputs": [
    {
     "name": "stdout",
     "output_type": "stream",
     "text": [
      "[3 4 5]\n"
     ]
    }
   ],
   "source": [
    "print(b[1])"
   ],
   "metadata": {
    "collapsed": false,
    "ExecuteTime": {
     "end_time": "2025-06-12T19:09:33.606031500Z",
     "start_time": "2025-06-12T19:09:33.581030400Z"
    }
   }
  },
  {
   "cell_type": "code",
   "execution_count": 31,
   "outputs": [
    {
     "name": "stdout",
     "output_type": "stream",
     "text": [
      "[2 5 8]\n"
     ]
    }
   ],
   "source": [
    "print(b[:,2])"
   ],
   "metadata": {
    "collapsed": false,
    "ExecuteTime": {
     "end_time": "2025-06-12T19:10:24.058707800Z",
     "start_time": "2025-06-12T19:10:24.037192400Z"
    }
   }
  },
  {
   "cell_type": "code",
   "execution_count": 32,
   "outputs": [
    {
     "name": "stdout",
     "output_type": "stream",
     "text": [
      "[[ 0  5 10]\n",
      " [15 20 25]\n",
      " [30 35 40]]\n"
     ]
    }
   ],
   "source": [
    "print(b*5)"
   ],
   "metadata": {
    "collapsed": false,
    "ExecuteTime": {
     "end_time": "2025-06-12T19:11:55.853427800Z",
     "start_time": "2025-06-12T19:11:55.846427600Z"
    }
   }
  },
  {
   "cell_type": "code",
   "execution_count": 42,
   "outputs": [
    {
     "name": "stdout",
     "output_type": "stream",
     "text": [
      "[[0 3 6]\n",
      " [1 4 7]\n",
      " [2 5 8]]\n"
     ]
    }
   ],
   "source": [
    "print(b.T)"
   ],
   "metadata": {
    "collapsed": false,
    "ExecuteTime": {
     "end_time": "2025-06-12T19:14:04.053589600Z",
     "start_time": "2025-06-12T19:14:04.049582200Z"
    }
   }
  },
  {
   "cell_type": "code",
   "execution_count": 44,
   "outputs": [
    {
     "name": "stdout",
     "output_type": "stream",
     "text": [
      "[ 3 12 21]\n"
     ]
    }
   ],
   "source": [
    "print(b.sum(axis=1))"
   ],
   "metadata": {
    "collapsed": false,
    "ExecuteTime": {
     "end_time": "2025-06-12T19:14:47.723993800Z",
     "start_time": "2025-06-12T19:14:47.720829300Z"
    }
   }
  },
  {
   "cell_type": "code",
   "execution_count": 46,
   "outputs": [
    {
     "name": "stdout",
     "output_type": "stream",
     "text": [
      "[ 9 12 15]\n"
     ]
    }
   ],
   "source": [
    "print(b.sum(axis=0))"
   ],
   "metadata": {
    "collapsed": false,
    "ExecuteTime": {
     "end_time": "2025-06-12T19:15:27.698046300Z",
     "start_time": "2025-06-12T19:15:27.691601300Z"
    }
   }
  },
  {
   "cell_type": "code",
   "execution_count": 52,
   "outputs": [
    {
     "name": "stdout",
     "output_type": "stream",
     "text": [
      "[[0 1 2]\n",
      " [3 4 0]\n",
      " [0 0 0]]\n"
     ]
    }
   ],
   "source": [
    "b = np.where(b>4,0,b)\n",
    "print(b)"
   ],
   "metadata": {
    "collapsed": false,
    "ExecuteTime": {
     "end_time": "2025-06-12T19:19:55.531004500Z",
     "start_time": "2025-06-12T19:19:55.523169200Z"
    }
   }
  },
  {
   "cell_type": "code",
   "execution_count": null,
   "outputs": [],
   "source": [],
   "metadata": {
    "collapsed": false
   }
  },
  {
   "cell_type": "markdown",
   "source": [
    "Завдання 1: Normalization (масштабування)"
   ],
   "metadata": {
    "collapsed": false
   }
  },
  {
   "cell_type": "code",
   "execution_count": 57,
   "outputs": [
    {
     "name": "stdout",
     "output_type": "stream",
     "text": [
      "[0.33333333 0.66666667 0.         1.         0.16666667]\n"
     ]
    }
   ],
   "source": [
    "arr = np.array([15, 25, 5, 35, 10])\n",
    "arrMax = arr.max()\n",
    "arrMin = arr.min()\n",
    "normalized = (arr - arrMin)/(arrMax -arrMin)\n",
    "print(normalized)"
   ],
   "metadata": {
    "collapsed": false,
    "ExecuteTime": {
     "end_time": "2025-06-12T19:24:53.875243400Z",
     "start_time": "2025-06-12T19:24:53.872729200Z"
    }
   }
  },
  {
   "cell_type": "markdown",
   "source": [
    "Завдання 2: One-Hot Encoding вручну"
   ],
   "metadata": {
    "collapsed": false
   }
  },
  {
   "cell_type": "code",
   "execution_count": 65,
   "outputs": [
    {
     "name": "stdout",
     "output_type": "stream",
     "text": [
      "[[1. 0. 0.]\n",
      " [0. 1. 0.]\n",
      " [0. 0. 1.]\n",
      " [0. 1. 0.]\n",
      " [1. 0. 0.]]\n"
     ]
    }
   ],
   "source": [
    "labels = np.array([0, 1, 2, 1, 0])\n",
    "classes = np.max(labels)+1\n",
    "onehot = np.zeros((labels.size,classes))\n",
    "onehot[np.arange(labels.size), labels] = 1\n",
    "print(onehot)"
   ],
   "metadata": {
    "collapsed": false,
    "ExecuteTime": {
     "end_time": "2025-06-12T19:48:27.769786700Z",
     "start_time": "2025-06-12T19:48:27.766720Z"
    }
   }
  },
  {
   "cell_type": "markdown",
   "source": [
    "Завдання 3: Створення діагональної матриці"
   ],
   "metadata": {
    "collapsed": false
   }
  },
  {
   "cell_type": "code",
   "execution_count": 72,
   "outputs": [
    {
     "name": "stdout",
     "output_type": "stream",
     "text": [
      "[[1 0 0]\n",
      " [0 2 0]\n",
      " [0 0 3]]\n"
     ]
    }
   ],
   "source": [
    "a = np.array([1, 2, 3])\n",
    "diag_matrix = np.diag(a)\n",
    "print(diag_matrix)"
   ],
   "metadata": {
    "collapsed": false,
    "ExecuteTime": {
     "end_time": "2025-06-12T19:55:48.253894800Z",
     "start_time": "2025-06-12T19:55:48.250894500Z"
    }
   }
  },
  {
   "cell_type": "markdown",
   "source": [
    " Завдання 4: Обнулити всі значення на головній діагоналі матриці"
   ],
   "metadata": {
    "collapsed": false
   }
  },
  {
   "cell_type": "code",
   "execution_count": 83,
   "outputs": [
    {
     "name": "stdout",
     "output_type": "stream",
     "text": [
      "[[0 2 3]\n",
      " [4 0 6]\n",
      " [7 8 0]]\n"
     ]
    }
   ],
   "source": [
    "m = np.array([[1, 2, 3],\n",
    "              [4, 5, 6],\n",
    "              [7, 8, 9]])\n",
    "for i in range(m.shape[0]):\n",
    "    for j in range(m.shape[0]):\n",
    "        if i==j:\n",
    "            m[i,j]=0\n",
    "print(m)"
   ],
   "metadata": {
    "collapsed": false,
    "ExecuteTime": {
     "end_time": "2025-06-12T20:02:01.078071800Z",
     "start_time": "2025-06-12T20:02:01.045064500Z"
    }
   }
  },
  {
   "cell_type": "code",
   "execution_count": 87,
   "outputs": [
    {
     "name": "stdout",
     "output_type": "stream",
     "text": [
      "[[0.  5.5 6.5 6. ]\n",
      " [5.5 0.  5.  0.5]\n",
      " [6.5 5.  6.  6. ]\n",
      " [6.  0.5 6.  8. ]]\n"
     ]
    }
   ],
   "source": [
    "A = np.random.randint(0, 10, (4, 4))\n",
    "A_sym = (A + A.T) / 2\n",
    "print(A_sym)"
   ],
   "metadata": {
    "collapsed": false,
    "ExecuteTime": {
     "end_time": "2025-06-12T20:03:49.979174700Z",
     "start_time": "2025-06-12T20:03:49.947720100Z"
    }
   }
  },
  {
   "cell_type": "code",
   "execution_count": 88,
   "outputs": [
    {
     "name": "stdout",
     "output_type": "stream",
     "text": [
      "[[0 1 0 1 0 1 0 1]\n",
      " [1 0 1 0 1 0 1 0]\n",
      " [0 1 0 1 0 1 0 1]\n",
      " [1 0 1 0 1 0 1 0]\n",
      " [0 1 0 1 0 1 0 1]\n",
      " [1 0 1 0 1 0 1 0]\n",
      " [0 1 0 1 0 1 0 1]\n",
      " [1 0 1 0 1 0 1 0]]\n"
     ]
    }
   ],
   "source": [
    "chessboard = np.zeros((8, 8), dtype=int)\n",
    "chessboard[1::2, ::2] = 1\n",
    "chessboard[::2, 1::2] = 1\n",
    "print(chessboard)"
   ],
   "metadata": {
    "collapsed": false,
    "ExecuteTime": {
     "end_time": "2025-06-12T20:05:24.767104Z",
     "start_time": "2025-06-12T20:05:24.751103200Z"
    }
   }
  },
  {
   "cell_type": "code",
   "execution_count": 2,
   "outputs": [],
   "source": [
    "import numpy as np\n",
    "arr = np.array([15, 25, 5, 35, 10])"
   ],
   "metadata": {
    "collapsed": false,
    "ExecuteTime": {
     "end_time": "2025-06-24T08:16:12.444926100Z",
     "start_time": "2025-06-24T08:16:03.942815500Z"
    }
   }
  },
  {
   "cell_type": "code",
   "execution_count": 11,
   "outputs": [
    {
     "name": "stdout",
     "output_type": "stream",
     "text": [
      "[-0.          0.16666667  0.33333333  0.66666667  1.        ]\n"
     ]
    }
   ],
   "source": [
    "arrNorm = -(arr-arr.min())/(arr.min()-arr.max())\n",
    "print(np.sort(arrNorm))"
   ],
   "metadata": {
    "collapsed": false,
    "ExecuteTime": {
     "end_time": "2025-06-24T08:21:23.984819600Z",
     "start_time": "2025-06-24T08:21:23.981307400Z"
    }
   }
  },
  {
   "cell_type": "code",
   "execution_count": 14,
   "outputs": [
    {
     "name": "stdout",
     "output_type": "stream",
     "text": [
      "[[0 1 0 1 0 1 0 1]\n",
      " [1 0 1 0 1 0 1 0]\n",
      " [0 1 0 1 0 1 0 1]\n",
      " [1 0 1 0 1 0 1 0]\n",
      " [0 1 0 1 0 1 0 1]\n",
      " [1 0 1 0 1 0 1 0]\n",
      " [0 1 0 1 0 1 0 1]\n",
      " [1 0 1 0 1 0 1 0]]\n"
     ]
    }
   ],
   "source": [
    "board = np.zeros((8, 8), dtype=int)\n",
    "for i in range(8):\n",
    "    for j in range(8):\n",
    "        if (i + j) % 2 == 1:\n",
    "            board[i, j] = 1\n",
    "print(board)"
   ],
   "metadata": {
    "collapsed": false,
    "ExecuteTime": {
     "end_time": "2025-06-24T08:28:04.420906300Z",
     "start_time": "2025-06-24T08:28:04.309716100Z"
    }
   }
  },
  {
   "cell_type": "markdown",
   "source": [
    "Підрахунок локальних максимумів у матриці"
   ],
   "metadata": {
    "collapsed": false
   }
  },
  {
   "cell_type": "code",
   "execution_count": 36,
   "outputs": [
    {
     "name": "stdout",
     "output_type": "stream",
     "text": [
      "\n",
      "[[0 3 5]\n",
      " [0 4 7]\n",
      " [0 6 8]]\n",
      "[[ True False]\n",
      " [ True False]\n",
      " [ True  True]]\n",
      "\n",
      "Кількість локальних максимумів: 4\n"
     ]
    }
   ],
   "source": [
    "mat = np.array([\n",
    "    [3, 5, 2],\n",
    "    [4, 7, 1],\n",
    "    [6, 8, 9]\n",
    "])\n",
    "print()\n",
    "right = np.pad(mat[:, :-1],  ((0,0),(1,0)), mode='constant')\n",
    "print(right)\n",
    "\n",
    "mask = mat>right\n",
    "resMatrix = mask[:,1:]\n",
    "print(resMatrix)\n",
    "print(\"\\nКількість локальних максимумів:\", np.sum(resMatrix))"
   ],
   "metadata": {
    "collapsed": false,
    "ExecuteTime": {
     "end_time": "2025-06-24T09:19:27.199118200Z",
     "start_time": "2025-06-24T09:19:27.189922800Z"
    }
   }
  },
  {
   "cell_type": "markdown",
   "source": [
    "кількість зростаючих рядків"
   ],
   "metadata": {
    "collapsed": false
   }
  },
  {
   "cell_type": "code",
   "execution_count": 42,
   "outputs": [
    {
     "name": "stdout",
     "output_type": "stream",
     "text": [
      "\n",
      "кількість зростаючих рядків: 2\n"
     ]
    }
   ],
   "source": [
    "mat = np.array([\n",
    "    [1, 2, 3],\n",
    "    [5, 4, 6],\n",
    "    [7, 8, 9]\n",
    "])\n",
    "res = np.diff(mat, axis=1)\n",
    "mask = res>0\n",
    "mask = np.all(mask, axis=1)\n",
    "print(\"\\nкількість зростаючих рядків:\", np.sum(mask))"
   ],
   "metadata": {
    "collapsed": false,
    "ExecuteTime": {
     "end_time": "2025-06-24T09:41:19.717019100Z",
     "start_time": "2025-06-24T09:41:19.711013300Z"
    }
   }
  },
  {
   "cell_type": "code",
   "execution_count": null,
   "outputs": [],
   "source": [],
   "metadata": {
    "collapsed": false
   }
  }
 ],
 "metadata": {
  "kernelspec": {
   "display_name": "Python 3",
   "language": "python",
   "name": "python3"
  },
  "language_info": {
   "codemirror_mode": {
    "name": "ipython",
    "version": 2
   },
   "file_extension": ".py",
   "mimetype": "text/x-python",
   "name": "python",
   "nbconvert_exporter": "python",
   "pygments_lexer": "ipython2",
   "version": "2.7.6"
  }
 },
 "nbformat": 4,
 "nbformat_minor": 0
}
